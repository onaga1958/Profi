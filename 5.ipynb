{
 "cells": [
  {
   "cell_type": "code",
   "execution_count": 1,
   "metadata": {},
   "outputs": [],
   "source": [
    "import json\n",
    "import numpy as np\n",
    "import pandas as pd\n",
    "import matplotlib.pyplot as plt\n",
    "import scipy.stats as ss\n",
    "import torch"
   ]
  },
  {
   "cell_type": "code",
   "execution_count": 4,
   "metadata": {},
   "outputs": [],
   "source": [
    "train = pd.read_csv('train.csv')\n",
    "test = pd.read_csv('test.csv')"
   ]
  },
  {
   "cell_type": "code",
   "execution_count": 6,
   "metadata": {},
   "outputs": [],
   "source": [
    "import torch, torch.nn as nn\n",
    "import torch.nn.functional as F\n",
    "from torch.autograd import Variable"
   ]
  },
  {
   "cell_type": "code",
   "execution_count": 67,
   "metadata": {},
   "outputs": [],
   "source": [
    "from sklearn.metrics import mean_squared_error"
   ]
  },
  {
   "cell_type": "code",
   "execution_count": 71,
   "metadata": {},
   "outputs": [
    {
     "data": {
      "text/plain": [
       "309.5350639114965"
      ]
     },
     "execution_count": 71,
     "metadata": {},
     "output_type": "execute_result"
    }
   ],
   "source": [
    "mean_squared_error(train['y'].values, np.repeat(np.mean(train['y'].values), len(train)))"
   ]
  },
  {
   "cell_type": "code",
   "execution_count": 101,
   "metadata": {},
   "outputs": [],
   "source": [
    "X_train = Variable(torch.FloatTensor(train.values[:, :10]))\n",
    "y_train = Variable(torch.FloatTensor(train['y'].values))"
   ]
  },
  {
   "cell_type": "code",
   "execution_count": 84,
   "metadata": {},
   "outputs": [],
   "source": []
  },
  {
   "cell_type": "code",
   "execution_count": 85,
   "metadata": {},
   "outputs": [
    {
     "data": {
      "text/plain": [
       "torch.Size([24000, 10])"
      ]
     },
     "execution_count": 85,
     "metadata": {},
     "output_type": "execute_result"
    }
   ],
   "source": [
    "X.shape"
   ]
  },
  {
   "cell_type": "code",
   "execution_count": 86,
   "metadata": {},
   "outputs": [
    {
     "data": {
      "text/plain": [
       "torch.Size([24000])"
      ]
     },
     "execution_count": 86,
     "metadata": {},
     "output_type": "execute_result"
    }
   ],
   "source": [
    "(torch.matmul((torch.matmul(X, A1) + b1), A2) + b2).reshape(-1).shape"
   ]
  },
  {
   "cell_type": "code",
   "execution_count": 87,
   "metadata": {},
   "outputs": [],
   "source": []
  },
  {
   "cell_type": "code",
   "execution_count": null,
   "metadata": {},
   "outputs": [],
   "source": []
  },
  {
   "cell_type": "code",
   "execution_count": 89,
   "metadata": {},
   "outputs": [],
   "source": [
    "from IPython.display import clear_output"
   ]
  },
  {
   "cell_type": "code",
   "execution_count": 94,
   "metadata": {},
   "outputs": [],
   "source": [
    "def predict(X, params):\n",
    "    A1, b1, A2, b2 = params \n",
    "    Z = torch.cos(torch.matmul(X, A1) + b1)\n",
    "    return (torch.matmul(Z, A2) + b2).reshape(-1)"
   ]
  },
  {
   "cell_type": "code",
   "execution_count": null,
   "metadata": {},
   "outputs": [],
   "source": []
  },
  {
   "cell_type": "code",
   "execution_count": 95,
   "metadata": {},
   "outputs": [],
   "source": [
    "def mse(X, y, params):\n",
    "    return torch.mean((predict(X, params) - y) ** 2) "
   ]
  },
  {
   "cell_type": "code",
   "execution_count": 110,
   "metadata": {},
   "outputs": [
    {
     "data": {
      "image/png": "[encoded data removed]",
      "text/plain": [
       "<Figure size 432x288 with 1 Axes>"
      ]
     },
     "metadata": {},
     "output_type": "display_data"
    }
   ],
   "source": [
    "A1 = Variable(torch.FloatTensor(np.random.random((10, 2))), requires_grad=True)\n",
    "b1 = Variable(torch.FloatTensor(np.random.random((2))), requires_grad=True)\n",
    "A2 = Variable(torch.FloatTensor(np.random.random((2, 1))), requires_grad=True)\n",
    "b2 = Variable(torch.FloatTensor(np.random.random(1)), requires_grad=True)\n",
    "params = [A1, b1, A2, b2]\n",
    "losses = []\n",
    "opt = torch.optim.Adam(params, lr=1e-3)\n",
    "\n",
    "for i in range(30000):\n",
    "    loss = mse(X_train, y_train, params)\n",
    "    loss.backward()\n",
    "    opt.step()\n",
    "    opt.zero_grad()\n",
    "    losses.append(loss.data.numpy())\n",
    "    # the rest of code is just bells and whistles\n",
    "    if (i + 1) % 100 == 0:\n",
    "        clear_output(True)\n",
    "        last_losses = losses[-5000:]\n",
    "        plt.plot(list(range(i - len(last_losses) + 1, i + 1)), losses[-5000:])\n",
    "        plt.show()"
   ]
  },
  {
   "cell_type": "code",
   "execution_count": 104,
   "metadata": {},
   "outputs": [],
   "source": [
    "X_test = Variable(torch.FloatTensor(test.values[:, :10]))\n",
    "y_test = Variable(torch.FloatTensor(test['y'].values))"
   ]
  },
  {
   "cell_type": "code",
   "execution_count": 105,
   "metadata": {},
   "outputs": [
    {
     "data": {
      "text/plain": [
       "tensor(17.8230, grad_fn=<MeanBackward1>)"
      ]
     },
     "execution_count": 105,
     "metadata": {},
     "output_type": "execute_result"
    }
   ],
   "source": [
    "mse(X_test, y_test, params)"
   ]
  },
  {
   "cell_type": "code",
   "execution_count": 111,
   "metadata": {},
   "outputs": [
    {
     "data": {
      "image/png": "[encoded data removed]",
      "text/plain": [
       "<Figure size 432x288 with 1 Axes>"
      ]
     },
     "metadata": {},
     "output_type": "display_data"
    }
   ],
   "source": [
    "opt2 = torch.optim.Adam(params, lr=1e-4)\n",
    "\n",
    "for i in range(30000, 40000):\n",
    "    loss = mse(X_train, y_train, params)\n",
    "    loss.backward()\n",
    "    opt2.step()\n",
    "    opt2.zero_grad()\n",
    "    losses.append(loss.data.numpy())\n",
    "    # the rest of code is just bells and whistles\n",
    "    if (i + 1) % 100 == 0:\n",
    "        clear_output(True)\n",
    "        last_losses = losses[-5000:]\n",
    "        plt.plot(list(range(i - len(last_losses) + 1, i + 1)), losses[-5000:])\n",
    "        plt.show()"
   ]
  },
  {
   "cell_type": "code",
   "execution_count": 112,
   "metadata": {},
   "outputs": [
    {
     "data": {
      "text/plain": [
       "tensor(17.7825, grad_fn=<MeanBackward1>)"
      ]
     },
     "execution_count": 112,
     "metadata": {},
     "output_type": "execute_result"
    }
   ],
   "source": [
    "mse(X_test, y_test, params)"
   ]
  },
  {
   "cell_type": "code",
   "execution_count": 113,
   "metadata": {},
   "outputs": [
    {
     "data": {
      "image/png": "[encoded data removed]",
      "text/plain": [
       "<Figure size 432x288 with 1 Axes>"
      ]
     },
     "metadata": {},
     "output_type": "display_data"
    }
   ],
   "source": [
    "A1_ = Variable(torch.FloatTensor(np.random.random((10, 2))), requires_grad=True)\n",
    "b1_ = Variable(torch.FloatTensor(np.random.random((2))), requires_grad=True)\n",
    "A2_ = Variable(torch.FloatTensor(np.random.random((2, 1))), requires_grad=True)\n",
    "b2_ = Variable(torch.FloatTensor(np.random.random(1)), requires_grad=True)\n",
    "params2 = [A1_, b1_, A2_, b2_]\n",
    "losses2 = []\n",
    "opt3 = torch.optim.Adam(params2, lr=1e-3)\n",
    "\n",
    "for i in range(50000):\n",
    "    loss = mse(X_train, y_train, params2)\n",
    "    loss.backward()\n",
    "    opt3.step()\n",
    "    opt3.zero_grad()\n",
    "    losses2.append(loss.data.numpy())\n",
    "    # the rest of code is just bells and whistles\n",
    "    if (i + 1) % 100 == 0:\n",
    "        clear_output(True)\n",
    "        last_losses = losses2[-5000:]\n",
    "        plt.plot(list(range(i - len(last_losses) + 1, i + 1)), losses2[-5000:])\n",
    "        plt.show()"
   ]
  },
  {
   "cell_type": "code",
   "execution_count": 115,
   "metadata": {},
   "outputs": [
    {
     "data": {
      "text/plain": [
       "tensor(17.7843, grad_fn=<MeanBackward1>)"
      ]
     },
     "execution_count": 115,
     "metadata": {},
     "output_type": "execute_result"
    }
   ],
   "source": [
    "mse(X_test, y_test, params2)"
   ]
  },
  {
   "cell_type": "code",
   "execution_count": 119,
   "metadata": {},
   "outputs": [],
   "source": []
  },
  {
   "cell_type": "code",
   "execution_count": 120,
   "metadata": {},
   "outputs": [
    {
     "data": {
      "text/plain": [
       "array([[ 14.56,  15.13],\n",
       "       [ -0.16,   0.28],\n",
       "       [ -9.93, -10.24],\n",
       "       [ 14.49,  14.14],\n",
       "       [-11.43, -11.26],\n",
       "       [ -8.67,  -8.18],\n",
       "       [ 14.86,  14.76]])"
      ]
     },
     "execution_count": 120,
     "metadata": {},
     "output_type": "execute_result"
    }
   ],
   "source": [
    "a"
   ]
  },
  {
   "cell_type": "code",
   "execution_count": null,
   "metadata": {},
   "outputs": [],
   "source": []
  }
 ],
 "metadata": {
  "kernelspec": {
   "display_name": "Python 3",
   "language": "python",
   "name": "python3"
  },
  "language_info": {
   "codemirror_mode": {
    "name": "ipython",
    "version": 3
   },
   "file_extension": ".py",
   "mimetype": "text/x-python",
   "name": "python",
   "nbconvert_exporter": "python",
   "pygments_lexer": "ipython3",
   "version": "3.6.4"
  }
 },
 "nbformat": 4,
 "nbformat_minor": 2
}
